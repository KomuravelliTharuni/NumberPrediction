{
  "nbformat": 4,
  "nbformat_minor": 0,
  "metadata": {
    "colab": {
      "provenance": [],
      "authorship_tag": "ABX9TyO+dRYwqOHtVt8sVA3LtQG2",
      "include_colab_link": true
    },
    "kernelspec": {
      "name": "python3",
      "display_name": "Python 3"
    },
    "language_info": {
      "name": "python"
    }
  },
  "cells": [
    {
      "cell_type": "markdown",
      "metadata": {
        "id": "view-in-github",
        "colab_type": "text"
      },
      "source": [
        "<a href=\"https://colab.research.google.com/github/KomuravelliTharuni/NumberPrediction/blob/main/Number_prediction.ipynb\" target=\"_parent\"><img src=\"https://colab.research.google.com/assets/colab-badge.svg\" alt=\"Open In Colab\"/></a>"
      ]
    },
    {
      "cell_type": "code",
      "source": [
        "!git init\n",
        "!git add README.md\n",
        "!git commit -m \"first commit\"\n",
        "!git branch -M main\n",
        "!git remote add origin https://github.com/KomuravelliTharuni/NumberPrediction.git\n",
        "!git push -u origin main"
      ],
      "metadata": {
        "colab": {
          "base_uri": "https://localhost:8080/"
        },
        "id": "veXBlU1LE-xO",
        "outputId": "05dcd064-0f8a-4eaf-89a6-820e17170c5a"
      },
      "execution_count": 4,
      "outputs": [
        {
          "output_type": "stream",
          "name": "stdout",
          "text": [
            "Reinitialized existing Git repository in /content/.git/\n",
            "fatal: pathspec 'README.md' did not match any files\n",
            "Author identity unknown\n",
            "\n",
            "*** Please tell me who you are.\n",
            "\n",
            "Run\n",
            "\n",
            "  git config --global user.email \"you@example.com\"\n",
            "  git config --global user.name \"Your Name\"\n",
            "\n",
            "to set your account's default identity.\n",
            "Omit --global to set the identity only in this repository.\n",
            "\n",
            "fatal: unable to auto-detect email address (got 'root@1056538b9145.(none)')\n",
            "error: remote origin already exists.\n",
            "error: src refspec main does not match any\n",
            "\u001b[31merror: failed to push some refs to 'https://github.com/KomuravelliTharuni/NumberPrediction.git'\n",
            "\u001b[m"
          ]
        }
      ]
    },
    {
      "cell_type": "code",
      "execution_count": 2,
      "metadata": {
        "colab": {
          "base_uri": "https://localhost:8080/",
          "height": 738
        },
        "id": "vahG8IWL_U58",
        "outputId": "06516ae4-6888-487d-edf0-db74bd31406a"
      },
      "outputs": [
        {
          "output_type": "stream",
          "name": "stdout",
          "text": [
            "Downloading data from https://storage.googleapis.com/tensorflow/tf-keras-datasets/mnist.npz\n",
            "\u001b[1m11490434/11490434\u001b[0m \u001b[32m━━━━━━━━━━━━━━━━━━━━\u001b[0m\u001b[37m\u001b[0m \u001b[1m1s\u001b[0m 0us/step\n"
          ]
        },
        {
          "output_type": "stream",
          "name": "stderr",
          "text": [
            "/usr/local/lib/python3.11/dist-packages/keras/src/layers/reshaping/flatten.py:37: UserWarning: Do not pass an `input_shape`/`input_dim` argument to a layer. When using Sequential models, prefer using an `Input(shape)` object as the first layer in the model instead.\n",
            "  super().__init__(**kwargs)\n"
          ]
        },
        {
          "output_type": "stream",
          "name": "stdout",
          "text": [
            "Epoch 1/5\n",
            "\u001b[1m1875/1875\u001b[0m \u001b[32m━━━━━━━━━━━━━━━━━━━━\u001b[0m\u001b[37m\u001b[0m \u001b[1m8s\u001b[0m 4ms/step - accuracy: 0.9721 - loss: 0.0846 - val_accuracy: 0.9904 - val_loss: 0.0284\n",
            "Epoch 2/5\n",
            "\u001b[1m1875/1875\u001b[0m \u001b[32m━━━━━━━━━━━━━━━━━━━━\u001b[0m\u001b[37m\u001b[0m \u001b[1m10s\u001b[0m 4ms/step - accuracy: 0.9930 - loss: 0.0222 - val_accuracy: 0.9941 - val_loss: 0.0173\n",
            "Epoch 3/5\n",
            "\u001b[1m1875/1875\u001b[0m \u001b[32m━━━━━━━━━━━━━━━━━━━━\u001b[0m\u001b[37m\u001b[0m \u001b[1m9s\u001b[0m 3ms/step - accuracy: 0.9960 - loss: 0.0122 - val_accuracy: 0.9936 - val_loss: 0.0162\n",
            "Epoch 4/5\n",
            "\u001b[1m1875/1875\u001b[0m \u001b[32m━━━━━━━━━━━━━━━━━━━━\u001b[0m\u001b[37m\u001b[0m \u001b[1m11s\u001b[0m 4ms/step - accuracy: 0.9976 - loss: 0.0091 - val_accuracy: 0.9947 - val_loss: 0.0143\n",
            "Epoch 5/5\n",
            "\u001b[1m1875/1875\u001b[0m \u001b[32m━━━━━━━━━━━━━━━━━━━━\u001b[0m\u001b[37m\u001b[0m \u001b[1m7s\u001b[0m 4ms/step - accuracy: 0.9979 - loss: 0.0065 - val_accuracy: 0.9951 - val_loss: 0.0139\n",
            "Actual digit: 4\n",
            "Predicted: 3 or 9 (Confidence: 0.9123)\n"
          ]
        },
        {
          "output_type": "display_data",
          "data": {
            "text/plain": [
              "<Figure size 640x480 with 1 Axes>"
            ],
            "image/png": "[encoded data removed]"
          },
          "metadata": {}
        }
      ],
      "source": [
        "# CNN for Digit Classification (MNIST)\n",
        "# This code builds a simple CNN to classify MNIST digits as either '3 or 9\n",
        "#' or 'not 3 or 9'.\n",
        "# It uses TensorFlow and Keras for model building and training.\n",
        "# It also includes data preprocessing, model training, and prediction.\n",
        "\n",
        "import numpy as np\n",
        "import tensorflow as tf\n",
        "from tensorflow.keras.models import Sequential\n",
        "from tensorflow.keras.layers import Dense, Flatten\n",
        "from tensorflow.keras.datasets import mnist\n",
        "import matplotlib.pyplot as plt\n",
        "\n",
        "# 1. Load MNIST dataset\n",
        "(x_train, y_train), (x_test, y_test) = mnist.load_data()\n",
        "\n",
        "# 2. Normalize pixel values to [0, 1]\n",
        "x_train = x_train / 255.0\n",
        "x_test = x_test / 255.0\n",
        "\n",
        "# 3. Label: 1 if digit is 3 or 9, else 0\n",
        "y_train_binary = np.isin(y_train, [4]).astype(np.float32)\n",
        "y_test_binary = np.isin(y_test, [4]).astype(np.float32)\n",
        "\n",
        "# 4. Build model\n",
        "model = Sequential([\n",
        "    Flatten(input_shape=(28, 28)),          # Convert 28x28 to 784\n",
        "    #   Flatten(input_shape=(28, 28)),          # To test other input sample\n",
        "    Dense(64, activation='relu'), # Fully connected layer\n",
        "    Dense(1, activation='sigmoid')          # Binary output\n",
        "])\n",
        "\n",
        "model.compile(optimizer='adam', loss='binary_crossentropy', metrics=['accuracy'])\n",
        "\n",
        "# 5. Train model\n",
        "model.fit(x_train, y_train_binary, epochs=5, validation_data=(x_test, y_test_binary))\n",
        "\n",
        "# 6. Predict a sample\n",
        "index = 6  # change index to test other digits\n",
        "sample = x_test[index]\n",
        "pred = model.predict(sample.reshape(1, 28, 28), verbose=0)\n",
        "pred_class = int(pred[0][0] >= 0.5)\n",
        "\n",
        "print(f\"Actual digit: {y_test[index]}\")\n",
        "print(f\"Predicted: {'3 or 9' if pred_class else 'Not 3 or 9'} (Confidence: {pred[0][0]:.4f})\")\n",
        "\n",
        "# 7. Show the image\n",
        "plt.imshow(sample, cmap='gray')\n",
        "plt.title(f\"Predicted: {'3 or 9' if pred_class else 'Not 3 or 9'}\")\n",
        "plt.axis('off')\n",
        "plt.show()"
      ]
    }
  ]
}